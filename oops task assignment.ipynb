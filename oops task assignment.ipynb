{
 "cells": [
  {
   "cell_type": "code",
   "execution_count": 1,
   "id": "82d9ade5-2aed-4240-b757-7c421ee83fab",
   "metadata": {},
   "outputs": [
    {
     "name": "stdin",
     "output_type": "stream",
     "text": [
      "Enter your vehile name:  Toyota Supra\n",
      "Enter max speed:  255\n",
      "Enter average:  25\n"
     ]
    },
    {
     "name": "stdout",
     "output_type": "stream",
     "text": [
      "My vehicle name is Toyota Supra with max speed: 255mph and average: 25kmpl.\n"
     ]
    }
   ],
   "source": [
    "#Question 1\n",
    "#Ans\n",
    "class Vehicle:\n",
    "    def __init__(self,name,max_speed,average):\n",
    "        self.name_of_vehicle = name\n",
    "        self.max_speed = max_speed\n",
    "        self.average_of_vehicle = average\n",
    "    def print_details(self):\n",
    "        print(f\"My vehicle name is {self.name_of_vehicle} with max speed: {self.max_speed}mph and average: {self.average_of_vehicle}kmpl.\")\n",
    "vehicle = input(\"Enter your vehile name: \")\n",
    "speed = int(input(\"Enter max speed: \"))\n",
    "average = int(input(\"Enter average: \"))\n",
    "            \n",
    "car = Vehicle(vehicle, speed,average)\n",
    "car.print_details()"
   ]
  },
  {
   "cell_type": "code",
   "execution_count": 2,
   "id": "9ad2fdf8-29c0-497e-9622-256ab31211c2",
   "metadata": {},
   "outputs": [
    {
     "name": "stdin",
     "output_type": "stream",
     "text": [
      "Enter your vehile name:  BMW\n",
      "Enter the seating capacity:  4\n"
     ]
    },
    {
     "name": "stdout",
     "output_type": "stream",
     "text": [
      "I have a BMW car with seating capacity of 4 passengers.\n"
     ]
    }
   ],
   "source": [
    "#Question 2\n",
    "#Ans\n",
    "class Vehicle:\n",
    "    def __init__(self,name,max_speed=None,average=None):\n",
    "        self.name_of_vehicle = name\n",
    "        self.max_speed = max_speed\n",
    "        self.average_of_vehicle = average\n",
    "    def print_details(self):\n",
    "        print(f\"My vehicle name is {self.name_of_vehicle} with max speed: {self.max_speed}mph and average: {self.average_of_vehicle}kmpl.\")\n",
    "class Car(Vehicle):\n",
    "    def __init__(self,vehicle,capacity):\n",
    "        super().__init__(vehicle)\n",
    "        self.seating_capacity = capacity\n",
    "    def get_data(self):\n",
    "        print(f\"I have a {self.name_of_vehicle} car with seating capacity of {self.seating_capacity} passengers.\")\n",
    "vehicle = input(\"Enter your vehile name: \")\n",
    "capacity = int(input(\"Enter the seating capacity: \"))\n",
    "my_car = Car(vehicle,capacity)\n",
    "my_car.get_data()\n",
    "    \n",
    "    "
   ]
  },
  {
   "cell_type": "code",
   "execution_count": 3,
   "id": "90a799fb-6790-415b-b07f-b4a41f568e80",
   "metadata": {},
   "outputs": [
    {
     "name": "stdin",
     "output_type": "stream",
     "text": [
      "Enter Nature:  sweet\n",
      "Enter eyes type:  brown\n",
      "Enter health:  good\n"
     ]
    },
    {
     "name": "stdout",
     "output_type": "stream",
     "text": [
      "A child is born with sweet nature like his father and brown eyes like his mother with sweet health.\n"
     ]
    }
   ],
   "source": [
    "#Question 3\n",
    "#Ans \n",
    "#Multiple Inheritance: - In this inheritance there are two parent classes and 1 child class. Child class will inherit the properties of\n",
    "#both parent classes. Example: A Child is derived from Father and Mother.\n",
    "class Father:\n",
    "    def __init__(self,nature):\n",
    "        self.nature = nature\n",
    "class Mother:\n",
    "    def __init__(self,eyes):\n",
    "        self.eyes = eyes\n",
    "class Child(Father,Mother):\n",
    "    def __init__(self,nature,eyes,health):\n",
    "        Father.__init__(self,nature)\n",
    "        Mother.__init__(self,eyes)\n",
    "        self.health = health\n",
    "    def details(self):\n",
    "        print(f\"A child is born with {self.nature} nature like his father and {self.eyes} eyes like his mother with {self.health} health.\")\n",
    "nature = input(\"Enter Nature: \")\n",
    "eyes = input(\"Enter eyes type: \")\n",
    "health = input(\"Enter health: \")\n",
    "boy = Child(nature,eyes,nature)\n",
    "boy.details()"
   ]
  },
  {
   "cell_type": "code",
   "execution_count": 4,
   "id": "f43d8ed5-6044-4154-9a60-a02da01a4cce",
   "metadata": {},
   "outputs": [
    {
     "name": "stdout",
     "output_type": "stream",
     "text": [
      "Hi, I am Ankit Kumawat.\n",
      "Welcome to PW Skills.\n"
     ]
    }
   ],
   "source": [
    "#Question 4\n",
    "#Ans\n",
    "#Getter and setter :- Getter ans Setter are used to achieve data encapsulation in python. With the help of getter and setter we just get and set our\n",
    "#value.\n",
    "class Test:\n",
    "    def __init__(self,first_name,last_name):\n",
    "        self.__first_name = first_name\n",
    "        self.__last_name = last_name\n",
    "    \n",
    "    @property\n",
    "    def get_first_name(self):\n",
    "        return self.__first_name\n",
    "    @property\n",
    "    def get_last_name(self):\n",
    "        return self.__last_name\n",
    "    \n",
    "    @get_first_name.setter\n",
    "    def set_first_name(self,f_n):\n",
    "        self.__first_name = f_n\n",
    "    \n",
    "    @get_last_name.setter\n",
    "    def set_last_name(self,l_n):\n",
    "        self.__last_name = l_n\n",
    "\n",
    "obj = Test(\"Ankit\",\"Kumawat\")\n",
    "print(f\"Hi, I am {obj.get_first_name} {obj.get_last_name}.\")\n",
    "obj.set_first_name = \"PW\"\n",
    "obj.set_last_name = \"Skills\"\n",
    "print(f\"Welcome to {obj.get_first_name} {obj.get_last_name}.\")\n"
   ]
  },
  {
   "cell_type": "code",
   "execution_count": 5,
   "id": "a09fea37-7c78-4329-bdaf-2dbee5d0ef31",
   "metadata": {},
   "outputs": [
    {
     "ename": "AttributeError",
     "evalue": "'Test' object has no attribute '__first_name'",
     "output_type": "error",
     "traceback": [
      "\u001b[0;31m---------------------------------------------------------------------------\u001b[0m",
      "\u001b[0;31mAttributeError\u001b[0m                            Traceback (most recent call last)",
      "Cell \u001b[0;32mIn[5], line 1\u001b[0m\n\u001b[0;32m----> 1\u001b[0m \u001b[43mobj\u001b[49m\u001b[38;5;241;43m.\u001b[39;49m\u001b[43m__first_name\u001b[49m\n",
      "\u001b[0;31mAttributeError\u001b[0m: 'Test' object has no attribute '__first_name'"
     ]
    }
   ],
   "source": [
    "obj.__first_name"
   ]
  },
  {
   "cell_type": "code",
   "execution_count": 6,
   "id": "1c6ba402-7e08-4e63-9026-563dd3602fd5",
   "metadata": {},
   "outputs": [],
   "source": [
    "#Like we can't access private variable se getter and setter can be used in this situation."
   ]
  },
  {
   "cell_type": "code",
   "execution_count": 7,
   "id": "0848f75d-db91-4892-b088-0829be0b4a39",
   "metadata": {},
   "outputs": [
    {
     "name": "stdout",
     "output_type": "stream",
     "text": [
      "I am in child class.\n"
     ]
    }
   ],
   "source": [
    "#Question 5\n",
    "#Ans\n",
    "#Method-overriding: - Method overriding is an example of run time polymorphism. In this, the specific implementation of the method \n",
    "#that is already provided by the parent class is provided by the child class. \n",
    "#It is used to change the behavior of existing methods and there is a need for at least two classes for method overriding.\n",
    "\n",
    "class Parent:\n",
    "    def print_data(self):\n",
    "        print(\"I am in parent class.\")\n",
    "\n",
    "class Child:\n",
    "    def print_data(self):\n",
    "        print(\"I am in child class.\")\n",
    "obj = Child()\n",
    "obj.print_data()"
   ]
  },
  {
   "cell_type": "code",
   "execution_count": 8,
   "id": "58b6500e-6a91-423b-83c1-de2db03ca931",
   "metadata": {},
   "outputs": [
    {
     "name": "stdout",
     "output_type": "stream",
     "text": [
      "I am in parent class.\n"
     ]
    }
   ],
   "source": [
    "obj_p = Parent()\n",
    "obj_p.print_data()"
   ]
  },
  {
   "cell_type": "code",
   "execution_count": 9,
   "id": "ff859e9d-52e3-4d76-92ae-af14f0b1788b",
   "metadata": {},
   "outputs": [],
   "source": [
    "#Like this we can achieve method overriding."
   ]
  }
 ],
 "metadata": {
  "kernelspec": {
   "display_name": "Python 3 (ipykernel)",
   "language": "python",
   "name": "python3"
  },
  "language_info": {
   "codemirror_mode": {
    "name": "ipython",
    "version": 3
   },
   "file_extension": ".py",
   "mimetype": "text/x-python",
   "name": "python",
   "nbconvert_exporter": "python",
   "pygments_lexer": "ipython3",
   "version": "3.10.8"
  }
 },
 "nbformat": 4,
 "nbformat_minor": 5
}
